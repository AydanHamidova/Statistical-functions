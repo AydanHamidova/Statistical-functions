{
 "cells": [
  {
   "cell_type": "markdown",
   "id": "1c2b42f7",
   "metadata": {},
   "source": [
    "### Calculate Mean"
   ]
  },
  {
   "cell_type": "markdown",
   "id": "2b5a1fd5",
   "metadata": {},
   "source": [
    "The Mean represents the average of the given collection of data. \n",
    "\n",
    "It is applicable for both continuous and discrete data."
   ]
  },
  {
   "cell_type": "code",
   "execution_count": 1,
   "id": "ea9a81fd",
   "metadata": {},
   "outputs": [
    {
     "name": "stdout",
     "output_type": "stream",
     "text": [
      "19.375\n"
     ]
    }
   ],
   "source": [
    "list_num = [3,50,23,10,9,45,7,8]\n",
    "\n",
    "mean= sum(list_num)/len(list_num)\n",
    "\n",
    "print(mean)"
   ]
  },
  {
   "cell_type": "markdown",
   "id": "5f05229a",
   "metadata": {},
   "source": [
    "### Calculate Median"
   ]
  },
  {
   "cell_type": "markdown",
   "id": "c2cdf17c",
   "metadata": {},
   "source": [
    "Generally median represents the mid-value of the given set of data when arranged in a particular order.\n",
    "\n",
    "Found by ordering all data points and picking out the one in the middle (or if there are two middle numbers, taking the mean of those two numbers)."
   ]
  },
  {
   "cell_type": "code",
   "execution_count": 2,
   "id": "f3a0ee0e",
   "metadata": {},
   "outputs": [],
   "source": [
    "list1 = [12, 16, 21, 43, 12, 30, 25, 23,45,90]"
   ]
  },
  {
   "cell_type": "code",
   "execution_count": 3,
   "id": "8cced6c0",
   "metadata": {},
   "outputs": [],
   "source": [
    "list1.sort()"
   ]
  },
  {
   "cell_type": "code",
   "execution_count": 4,
   "id": "582ba737",
   "metadata": {},
   "outputs": [
    {
     "data": {
      "text/plain": [
       "[12, 12, 16, 21, 23, 25, 30, 43, 45, 90]"
      ]
     },
     "execution_count": 4,
     "metadata": {},
     "output_type": "execute_result"
    }
   ],
   "source": [
    "sorted(list1)"
   ]
  },
  {
   "cell_type": "code",
   "execution_count": 5,
   "id": "93ca02d2",
   "metadata": {},
   "outputs": [
    {
     "name": "stdout",
     "output_type": "stream",
     "text": [
      "24.0\n"
     ]
    }
   ],
   "source": [
    "if len(list1)%2==0:\n",
    "    \n",
    "    m1=list1[len(list1)//2]\n",
    "    m2=list1[len(list1)//2-1]\n",
    "    median=(m1+m2)/2\n",
    "else:\n",
    "    median=list1[len(list1)//2]\n",
    "print(median)"
   ]
  },
  {
   "cell_type": "markdown",
   "id": "606107bf",
   "metadata": {},
   "source": [
    "### Calculate Mode"
   ]
  },
  {
   "cell_type": "markdown",
   "id": "1ffd9286",
   "metadata": {},
   "source": [
    "The most frequent number occurring in the data set is known as the mode.\n",
    "\n",
    "That is, the number that occurs the highest number of times."
   ]
  },
  {
   "cell_type": "code",
   "execution_count": 6,
   "id": "9de749bf",
   "metadata": {},
   "outputs": [
    {
     "name": "stdout",
     "output_type": "stream",
     "text": [
      "6\n"
     ]
    }
   ],
   "source": [
    "list1=[20,20,30,40,7,90,9,9,9,6,7,6,2,6,6,9,8,6]\n",
    "\n",
    "frequency={}\n",
    "\n",
    "for i in list1:\n",
    "    frequency.setdefault(i, 0)\n",
    "    frequency[i]+=1\n",
    "    \n",
    "max_freq = max(frequency.values())\n",
    "\n",
    "for i,j in frequency.items():\n",
    "    if j == max_freq:\n",
    "        mode=i\n",
    "print(mode)\n"
   ]
  }
 ],
 "metadata": {
  "kernelspec": {
   "display_name": "Python 3 (ipykernel)",
   "language": "python",
   "name": "python3"
  },
  "language_info": {
   "codemirror_mode": {
    "name": "ipython",
    "version": 3
   },
   "file_extension": ".py",
   "mimetype": "text/x-python",
   "name": "python",
   "nbconvert_exporter": "python",
   "pygments_lexer": "ipython3",
   "version": "3.10.9"
  }
 },
 "nbformat": 4,
 "nbformat_minor": 5
}
